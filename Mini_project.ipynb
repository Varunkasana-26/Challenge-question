{
  "nbformat": 4,
  "nbformat_minor": 0,
  "metadata": {
    "colab": {
      "provenance": [],
      "authorship_tag": "ABX9TyMKkhX2rFyFpdAaBnJXORga",
      "include_colab_link": true
    },
    "kernelspec": {
      "name": "python3",
      "display_name": "Python 3"
    },
    "language_info": {
      "name": "python"
    }
  },
  "cells": [
    {
      "cell_type": "markdown",
      "metadata": {
        "id": "view-in-github",
        "colab_type": "text"
      },
      "source": [
        "<a href=\"https://colab.research.google.com/github/Varunkasana-26/Mini-Project/blob/main/Mini_project.ipynb\" target=\"_parent\"><img src=\"https://colab.research.google.com/assets/colab-badge.svg\" alt=\"Open In Colab\"/></a>"
      ]
    },
    {
      "cell_type": "code",
      "execution_count": null,
      "metadata": {
        "id": "v4VMEY_ax2et"
      },
      "outputs": [],
      "source": [
        "L = [\"RAM\",1,\"SHYAM\",2,\"AMAN\",3 ]\n",
        "L = [str(i) for i in L]\n",
        "\n",
        "print(L)\n",
        "L.sort()\n",
        "\n",
        "L1 = []\n",
        "for i in L:\n",
        "    try:\n",
        "        L1.apeend(int(i))\n",
        "    except:\n",
        "        L1.append(i)\n",
        "\n",
        "print(L1)"
      ]
    }
  ]
}