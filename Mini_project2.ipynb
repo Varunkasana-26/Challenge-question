{
  "nbformat": 4,
  "nbformat_minor": 0,
  "metadata": {
    "colab": {
      "provenance": [],
      "authorship_tag": "ABX9TyP8gOlQ3fiX2YrNIwIH0Mw+",
      "include_colab_link": true
    },
    "kernelspec": {
      "name": "python3",
      "display_name": "Python 3"
    },
    "language_info": {
      "name": "python"
    }
  },
  "cells": [
    {
      "cell_type": "markdown",
      "metadata": {
        "id": "view-in-github",
        "colab_type": "text"
      },
      "source": [
        "<a href=\"https://colab.research.google.com/github/Varunkasana-26/Challenge-question/blob/main/Mini_project2.ipynb\" target=\"_parent\"><img src=\"https://colab.research.google.com/assets/colab-badge.svg\" alt=\"Open In Colab\"/></a>"
      ]
    },
    {
      "cell_type": "code",
      "execution_count": 4,
      "metadata": {
        "id": "v4VMEY_ax2et",
        "colab": {
          "base_uri": "https://localhost:8080/"
        },
        "outputId": "e91d3492-8463-4f76-c233-528a3d31e349"
      },
      "outputs": [
        {
          "output_type": "stream",
          "name": "stdout",
          "text": [
            "['RAM', '1', 'SHYAM', '2', 'AMAN', '3']\n",
            "['1', '2', '3', 'AMAN', 'RAM', 'SHYAM']\n"
          ]
        }
      ],
      "source": [
        "L = [\"RAM\",1,\"SHYAM\",2,\"AMAN\",3 ]\n",
        "L = [str(i) for i in L]\n",
        "\n",
        "print(L)\n",
        "L.sort()\n",
        "print(L)\n"
      ]
    }
  ]
}